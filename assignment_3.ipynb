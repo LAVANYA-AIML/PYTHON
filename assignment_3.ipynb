{
  "nbformat": 4,
  "nbformat_minor": 0,
  "metadata": {
    "colab": {
      "provenance": []
    },
    "kernelspec": {
      "name": "python3",
      "display_name": "Python 3"
    },
    "language_info": {
      "name": "python"
    }
  },
  "cells": [
    {
      "cell_type": "markdown",
      "source": [
        "\n",
        "\n",
        "    Why are functions advantageous to have in your programs?\n",
        "\n",
        "Ans :- Functions can be reusable . Suppose in a code if i want to do factorial multiple times then instead of writing full code everytime we can call the function whenever we needed\n",
        "\n",
        "    When does the code in a function run: when it's specified or when it's called?\n",
        "\n"
      ],
      "metadata": {
        "id": "Qkww9KnDSkp4"
      }
    },
    {
      "cell_type": "code",
      "source": [
        "def name():\n",
        "    print(\"palla lavanya\")"
      ],
      "metadata": {
        "id": "UP6sIuMRSrv7"
      },
      "execution_count": 1,
      "outputs": []
    },
    {
      "cell_type": "markdown",
      "source": [
        "# Here u can c it printed the palla lavanya when we called the function"
      ],
      "metadata": {
        "id": "F_35d0-0S194"
      }
    },
    {
      "cell_type": "code",
      "source": [
        "name()"
      ],
      "metadata": {
        "colab": {
          "base_uri": "https://localhost:8080/"
        },
        "id": "9zL2buQRS604",
        "outputId": "894b0165-e7aa-4dc2-c024-48a4269c35de"
      },
      "execution_count": 2,
      "outputs": [
        {
          "output_type": "stream",
          "name": "stdout",
          "text": [
            "palla lavanya\n"
          ]
        }
      ]
    },
    {
      "cell_type": "markdown",
      "source": [
        "\n",
        "\n",
        "    What statement creates a function?\n",
        "\n"
      ],
      "metadata": {
        "id": "QHZsSLQUS-la"
      }
    },
    {
      "cell_type": "code",
      "source": [
        "def name():\n",
        "    print(\"lavanya\")"
      ],
      "metadata": {
        "id": "9RMQN9hNTCh0"
      },
      "execution_count": 3,
      "outputs": []
    },
    {
      "cell_type": "code",
      "source": [
        "name()"
      ],
      "metadata": {
        "id": "A2gmi2XpTGvH"
      },
      "execution_count": null,
      "outputs": []
    },
    {
      "cell_type": "markdown",
      "source": [
        "\n",
        "\n",
        "    What is the difference between a function and a function call?\n",
        "\n",
        "Ans: - Function will have a whole body means it has the content/logic in and it won't run anything but when we call a function the code in it will run and it will return or print the result or if we use pass then nothing will be returned\n",
        "\n",
        "    How many global scopes are there in a Python program? How many local scopes?\n",
        "\n",
        "Ans: - In a python program there is only one Global score and it wil; have the existence through out the code . Local scopes can be many . We cannot say these many loca sopes in a code . Depends on code and requirements we will have the local scopes\n",
        "\n",
        "    What happens to variables in a local scope when the function call returns?\n",
        "\n",
        "Ans:-Whwn a function called actually the local variables will be active for execution.if those variables already exist as global variables then they will be override here and local variables will be consider for execution\n",
        "\n",
        "    What is the concept of a return value? Is it possible to have a return value in an expression?\n",
        "\n",
        "Ans:-When we return a value it will have the data type and we can assigne that value to any variable and we can use that return value in expression as well since it is having data type . But when u use print instead of return then u cannot use to ecoressin since it has no data type\n"
      ],
      "metadata": {
        "id": "m_Z4_R1GTPMO"
      }
    },
    {
      "cell_type": "code",
      "source": [
        "def add(a,c):\n",
        "    d=a+c\n",
        "    return d"
      ],
      "metadata": {
        "id": "a97uqa05TST_"
      },
      "execution_count": 4,
      "outputs": []
    },
    {
      "cell_type": "code",
      "source": [
        "e = add(2,2)"
      ],
      "metadata": {
        "id": "25EUtCRLTbM2"
      },
      "execution_count": 5,
      "outputs": []
    },
    {
      "cell_type": "code",
      "source": [
        "e"
      ],
      "metadata": {
        "colab": {
          "base_uri": "https://localhost:8080/"
        },
        "id": "a4RTmr6RTfCR",
        "outputId": "5c2eea87-2eb6-4cde-9c88-9aae585579bb"
      },
      "execution_count": 6,
      "outputs": [
        {
          "output_type": "execute_result",
          "data": {
            "text/plain": [
              "4"
            ]
          },
          "metadata": {},
          "execution_count": 6
        }
      ]
    },
    {
      "cell_type": "code",
      "source": [
        "type(e)"
      ],
      "metadata": {
        "colab": {
          "base_uri": "https://localhost:8080/"
        },
        "id": "DBI4aShbThiM",
        "outputId": "283b01bd-6e5f-4e1d-be3d-401bc4ecc781"
      },
      "execution_count": 7,
      "outputs": [
        {
          "output_type": "execute_result",
          "data": {
            "text/plain": [
              "int"
            ]
          },
          "metadata": {},
          "execution_count": 7
        }
      ]
    },
    {
      "cell_type": "code",
      "source": [
        "f=3\n",
        "g=e+f\n",
        "print(g)"
      ],
      "metadata": {
        "colab": {
          "base_uri": "https://localhost:8080/"
        },
        "id": "YM7ERoc9TtIR",
        "outputId": "1d20c1f4-2e00-43fc-8fe2-27b9e01d296a"
      },
      "execution_count": 9,
      "outputs": [
        {
          "output_type": "stream",
          "name": "stdout",
          "text": [
            "7\n"
          ]
        }
      ]
    },
    {
      "cell_type": "markdown",
      "source": [
        "\n",
        "\n",
        "U can c we we can use the return value in expression as well\n",
        "\n",
        "    If a function does not have a return statement, what is the return value of a call to that function?\n",
        "\n",
        "Ans : - When there is no return statement the funtion will return \"None\" . U can see that in below\n"
      ],
      "metadata": {
        "id": "Uc0tQwOqUDU9"
      }
    },
    {
      "cell_type": "code",
      "source": [
        "def add1(a,b):\n",
        "    c=a+b"
      ],
      "metadata": {
        "id": "yIZI-qFAUERD"
      },
      "execution_count": 10,
      "outputs": []
    },
    {
      "cell_type": "code",
      "source": [
        "d=add1(2,3)"
      ],
      "metadata": {
        "id": "6h7s_8_dUIgJ"
      },
      "execution_count": 11,
      "outputs": []
    },
    {
      "cell_type": "code",
      "source": [
        "print(d)"
      ],
      "metadata": {
        "colab": {
          "base_uri": "https://localhost:8080/"
        },
        "id": "Qz0JNtGeUKQX",
        "outputId": "1cb18d41-3fed-4c67-ea38-ba3c2b8d44e8"
      },
      "execution_count": 12,
      "outputs": [
        {
          "output_type": "stream",
          "name": "stdout",
          "text": [
            "None\n"
          ]
        }
      ]
    },
    {
      "cell_type": "markdown",
      "source": [
        "\n",
        "\n",
        "    How do you make a function variable refer to the global variable?\n",
        "\n"
      ],
      "metadata": {
        "id": "fNCYxHeFUK-G"
      }
    },
    {
      "cell_type": "code",
      "source": [
        "a=2\n",
        "def add2(a,b):\n",
        "    c=a+b\n",
        "    return c"
      ],
      "metadata": {
        "id": "AwyuOlIMUQW7"
      },
      "execution_count": 13,
      "outputs": []
    },
    {
      "cell_type": "code",
      "source": [
        "add2(a,1)"
      ],
      "metadata": {
        "id": "JgADNO5FUUqF"
      },
      "execution_count": null,
      "outputs": []
    },
    {
      "cell_type": "code",
      "source": [
        "\n",
        "\n",
        "Here u can c right without again declaring a new value we will get the result . So that variable a can be used a global variable\n",
        "\n",
        "    What is the data type of None?\n",
        "\n"
      ],
      "metadata": {
        "id": "XAqV_pL8UXSN"
      },
      "execution_count": null,
      "outputs": []
    },
    {
      "cell_type": "code",
      "source": [
        "type(None)"
      ],
      "metadata": {
        "colab": {
          "base_uri": "https://localhost:8080/"
        },
        "id": "AqiDPBxXUZ_K",
        "outputId": "6930bf4d-aff4-40a3-e994-d0e97c978387"
      },
      "execution_count": 14,
      "outputs": [
        {
          "output_type": "execute_result",
          "data": {
            "text/plain": [
              "NoneType"
            ]
          },
          "metadata": {},
          "execution_count": 14
        }
      ]
    },
    {
      "cell_type": "markdown",
      "source": [
        "\n",
        "\n",
        "NoneType\n",
        "\n",
        "he data type of None is \"Nonetype\"\n",
        "\n",
        "    What does the sentence import areallyourpetsnamederic do?\n",
        "\n",
        "Ans :- The import statement will imports a module names areallyourpetsnamederic\n",
        "\n",
        "    If you had a bacon() feature in a spam module, what would you call it after importing spam?\n",
        "\n"
      ],
      "metadata": {
        "id": "k8ZWnA_LUfbd"
      }
    },
    {
      "cell_type": "code",
      "source": [
        "Normally we will use exception handling"
      ],
      "metadata": {
        "id": "_qmQ_y0WUktP"
      },
      "execution_count": null,
      "outputs": []
    },
    {
      "cell_type": "markdown",
      "source": [
        "\n",
        "\n",
        "    What can you do to save a programme from crashing if it encounters an error?\n",
        "\n",
        "Ans:-To save the programme from crashing if it encounters an error we can use Exception Handling here . If any exception or error we get while run time we can save the code using try and except blocks .\n"
      ],
      "metadata": {
        "id": "T6w8Ba_ZUojf"
      }
    },
    {
      "cell_type": "code",
      "source": [
        "def division():\n",
        "        a = int(input(\"Enter number:\"))\n",
        "        c = 1/a\n",
        "        return c"
      ],
      "metadata": {
        "id": "E_0lfO57U05C"
      },
      "execution_count": 16,
      "outputs": []
    },
    {
      "cell_type": "code",
      "source": [
        "division()"
      ],
      "metadata": {
        "colab": {
          "base_uri": "https://localhost:8080/"
        },
        "id": "uhwuG1eNU4Tr",
        "outputId": "c49b72be-5592-4795-ee12-bd13e263cf96"
      },
      "execution_count": 17,
      "outputs": [
        {
          "name": "stdout",
          "output_type": "stream",
          "text": [
            "Enter number:2\n"
          ]
        },
        {
          "output_type": "execute_result",
          "data": {
            "text/plain": [
              "0.5"
            ]
          },
          "metadata": {},
          "execution_count": 17
        }
      ]
    },
    {
      "cell_type": "code",
      "source": [
        "division()\n"
      ],
      "metadata": {
        "colab": {
          "base_uri": "https://localhost:8080/",
          "height": 277
        },
        "id": "wjdEGOoWU-Yx",
        "outputId": "ffb52f3d-6209-4c0a-a540-bba84776c72e"
      },
      "execution_count": 18,
      "outputs": [
        {
          "name": "stdout",
          "output_type": "stream",
          "text": [
            "Enter number:0\n"
          ]
        },
        {
          "output_type": "error",
          "ename": "ZeroDivisionError",
          "evalue": "division by zero",
          "traceback": [
            "\u001b[0;31m---------------------------------------------------------------------------\u001b[0m",
            "\u001b[0;31mZeroDivisionError\u001b[0m                         Traceback (most recent call last)",
            "\u001b[0;32m/tmp/ipython-input-2749882612.py\u001b[0m in \u001b[0;36m<cell line: 0>\u001b[0;34m()\u001b[0m\n\u001b[0;32m----> 1\u001b[0;31m \u001b[0mdivision\u001b[0m\u001b[0;34m(\u001b[0m\u001b[0;34m)\u001b[0m\u001b[0;34m\u001b[0m\u001b[0;34m\u001b[0m\u001b[0m\n\u001b[0m",
            "\u001b[0;32m/tmp/ipython-input-530059840.py\u001b[0m in \u001b[0;36mdivision\u001b[0;34m()\u001b[0m\n\u001b[1;32m      1\u001b[0m \u001b[0;32mdef\u001b[0m \u001b[0mdivision\u001b[0m\u001b[0;34m(\u001b[0m\u001b[0;34m)\u001b[0m\u001b[0;34m:\u001b[0m\u001b[0;34m\u001b[0m\u001b[0;34m\u001b[0m\u001b[0m\n\u001b[1;32m      2\u001b[0m         \u001b[0ma\u001b[0m \u001b[0;34m=\u001b[0m \u001b[0mint\u001b[0m\u001b[0;34m(\u001b[0m\u001b[0minput\u001b[0m\u001b[0;34m(\u001b[0m\u001b[0;34m\"Enter number:\"\u001b[0m\u001b[0;34m)\u001b[0m\u001b[0;34m)\u001b[0m\u001b[0;34m\u001b[0m\u001b[0;34m\u001b[0m\u001b[0m\n\u001b[0;32m----> 3\u001b[0;31m         \u001b[0mc\u001b[0m \u001b[0;34m=\u001b[0m \u001b[0;36m1\u001b[0m\u001b[0;34m/\u001b[0m\u001b[0ma\u001b[0m\u001b[0;34m\u001b[0m\u001b[0;34m\u001b[0m\u001b[0m\n\u001b[0m\u001b[1;32m      4\u001b[0m         \u001b[0;32mreturn\u001b[0m \u001b[0mc\u001b[0m\u001b[0;34m\u001b[0m\u001b[0;34m\u001b[0m\u001b[0m\n",
            "\u001b[0;31mZeroDivisionError\u001b[0m: division by zero"
          ]
        }
      ]
    },
    {
      "cell_type": "code",
      "source": [
        "division()\n",
        "print(\"This line will print only when above code run successfully\")"
      ],
      "metadata": {
        "colab": {
          "base_uri": "https://localhost:8080/"
        },
        "id": "LcaIOtAjU_iL",
        "outputId": "0a891208-026e-4371-81e6-8ced2d718000"
      },
      "execution_count": 19,
      "outputs": [
        {
          "output_type": "stream",
          "name": "stdout",
          "text": [
            "Enter number:12\n",
            "This line will print only when above code run successfully\n"
          ]
        }
      ]
    },
    {
      "cell_type": "code",
      "source": [
        "def division():\n",
        "    try:\n",
        "        a = int(input(\"Enter number:\"))\n",
        "        c = 1/a\n",
        "    except Exception as e :\n",
        "        print(\"Exception is :\",e)\n",
        ""
      ],
      "metadata": {
        "id": "3uUUfDGcVezN"
      },
      "execution_count": 20,
      "outputs": []
    },
    {
      "cell_type": "code",
      "source": [
        "division()\n",
        "print(\"This line will print only when above code run successfully\")"
      ],
      "metadata": {
        "colab": {
          "base_uri": "https://localhost:8080/"
        },
        "id": "4_nwMyCDVh-D",
        "outputId": "0c5c24a5-8133-4285-d2c2-8c865f1a6b7e"
      },
      "execution_count": 21,
      "outputs": [
        {
          "output_type": "stream",
          "name": "stdout",
          "text": [
            "Enter number:2\n",
            "This line will print only when above code run successfully\n"
          ]
        }
      ]
    },
    {
      "cell_type": "code",
      "source": [
        "division()\n",
        "print(\"This line will print only when above code run successfully\")"
      ],
      "metadata": {
        "colab": {
          "base_uri": "https://localhost:8080/"
        },
        "id": "dnrRrb-hVk41",
        "outputId": "45cc4df7-a9a7-4f77-f4e0-eb77bbf343f1"
      },
      "execution_count": 22,
      "outputs": [
        {
          "output_type": "stream",
          "name": "stdout",
          "text": [
            "Enter number:0\n",
            "Exception is : division by zero\n",
            "This line will print only when above code run successfully\n"
          ]
        }
      ]
    },
    {
      "cell_type": "code",
      "source": [
        "division()\n",
        "print(\"This line will print only when above code run successfully\")\n"
      ],
      "metadata": {
        "colab": {
          "base_uri": "https://localhost:8080/"
        },
        "id": "U2JLyJhGVskg",
        "outputId": "b2f2aa0a-b0a5-4287-f721-114cc968bdae"
      },
      "execution_count": 23,
      "outputs": [
        {
          "output_type": "stream",
          "name": "stdout",
          "text": [
            "Enter number:afaf\n",
            "Exception is : invalid literal for int() with base 10: 'afaf'\n",
            "This line will print only when above code run successfully\n"
          ]
        }
      ]
    },
    {
      "cell_type": "markdown",
      "source": [
        " What is the purpose of the try clause? What is the purpose of the except clause?\n",
        "\n",
        "Ans :-As u can see above in try clause we will run the suspicious code in the above example c=1/a . When we get any exception here means when a=0 .we should not divide something with zero right so normally that will through an runtime error .Here we will move that error to the Except clause there we can see what is the error and it make the remaing code run successfully\n"
      ],
      "metadata": {
        "id": "aXzLadNCV0U9"
      }
    }
  ]
}