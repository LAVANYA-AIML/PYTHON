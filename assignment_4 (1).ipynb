{
  "nbformat": 4,
  "nbformat_minor": 0,
  "metadata": {
    "colab": {
      "provenance": []
    },
    "kernelspec": {
      "name": "python3",
      "display_name": "Python 3"
    },
    "language_info": {
      "name": "python"
    }
  },
  "cells": [
    {
      "cell_type": "markdown",
      "source": [
        "What exactly is []?\n",
        " [] this indiactes a list"
      ],
      "metadata": {
        "id": "QN7BLXhtiTAd"
      }
    },
    {
      "cell_type": "code",
      "execution_count": null,
      "metadata": {
        "colab": {
          "base_uri": "https://localhost:8080/"
        },
        "id": "y8IuSG9WiMSb",
        "outputId": "0f4d1630-1048-4ae2-dae6-67f31eb4f950"
      },
      "outputs": [
        {
          "output_type": "stream",
          "name": "stdout",
          "text": [
            "<class 'list'>\n"
          ]
        }
      ],
      "source": [
        "k= []\n",
        "print(type(k))"
      ]
    },
    {
      "cell_type": "markdown",
      "source": [
        "In a list of values stored in a variable called spam, how would you assign the value 'hello' as the third value? (Assume [2, 4, 6, 8, 10] are in spam.)"
      ],
      "metadata": {
        "id": "mZkw3Y1oimgw"
      }
    },
    {
      "cell_type": "code",
      "source": [
        "spam = [2,4,6,8,10]\n",
        "spam.insert(2,\"hello\")\n",
        "print(spam)"
      ],
      "metadata": {
        "colab": {
          "base_uri": "https://localhost:8080/"
        },
        "id": "QX_2OW0AisQe",
        "outputId": "ccbde7c7-2413-43f2-abcf-30b3ab30144c"
      },
      "execution_count": null,
      "outputs": [
        {
          "output_type": "stream",
          "name": "stdout",
          "text": [
            "[2, 4, 'hello', 6, 8, 10]\n"
          ]
        }
      ]
    },
    {
      "cell_type": "markdown",
      "source": [
        "Let's pretend the spam includes the list ['a', 'b', 'c', 'd'] for the next three queries.\n",
        "\n",
        "\n",
        "\n",
        "\n",
        "What is the value of spam[int(int('3' * 2) / 11)]?\n",
        "Ans:-first int('3'*2) gives 33 then divide by 11 gives 3 that int(33/11) = 3 . Then spam[3] = 'd' since spam = ['a','b','c','d']"
      ],
      "metadata": {
        "id": "hLgEPehzixA-"
      }
    },
    {
      "cell_type": "code",
      "source": [
        "spam = ['a','b','c','d']\n",
        "print(spam[int(int('3'*2)/11)])"
      ],
      "metadata": {
        "colab": {
          "base_uri": "https://localhost:8080/"
        },
        "id": "borG0zOWis7R",
        "outputId": "84c3527e-9e4f-4a5b-f8fb-51c5a1474ecc"
      },
      "execution_count": null,
      "outputs": [
        {
          "output_type": "stream",
          "name": "stdout",
          "text": [
            "d\n"
          ]
        }
      ]
    },
    {
      "cell_type": "markdown",
      "source": [
        "What is the value of spam[-1]?\n",
        "Ans : - spam[-1] means here index start from last like -1 , -2 ,-3 and -4 . so spam[-1] = 'd'"
      ],
      "metadata": {
        "id": "WZpxQQL0i_NV"
      }
    },
    {
      "cell_type": "code",
      "source": [
        "print(spam[-1])\n"
      ],
      "metadata": {
        "colab": {
          "base_uri": "https://localhost:8080/"
        },
        "id": "SUiCr8oCi7mM",
        "outputId": "2a1d3d94-8e8b-4a77-89a9-ed7f6b7bff8a"
      },
      "execution_count": null,
      "outputs": [
        {
          "output_type": "stream",
          "name": "stdout",
          "text": [
            "d\n"
          ]
        }
      ]
    },
    {
      "cell_type": "markdown",
      "source": [
        "What is the value of spam[:2]?\n",
        "Ans:- Since spam[:2] index will start from 0 to 1 excluding index 2 . so it will return ['a','b']"
      ],
      "metadata": {
        "id": "k5-sGEkjjGH9"
      }
    },
    {
      "cell_type": "code",
      "source": [
        "print(spam[:2])\n"
      ],
      "metadata": {
        "colab": {
          "base_uri": "https://localhost:8080/"
        },
        "id": "DaAHuDSejCUP",
        "outputId": "f85594b4-742a-471f-b079-5b4a32642cb1"
      },
      "execution_count": null,
      "outputs": [
        {
          "output_type": "stream",
          "name": "stdout",
          "text": [
            "['a', 'b']\n"
          ]
        }
      ]
    },
    {
      "cell_type": "markdown",
      "source": [
        "What is the value of bacon.index('cat')?"
      ],
      "metadata": {
        "id": "uBxwtlWJjMI3"
      }
    },
    {
      "cell_type": "code",
      "source": [
        "bacon = [3.14,'cat',11,'cat',True]\n",
        "print(bacon.index('cat'))"
      ],
      "metadata": {
        "colab": {
          "base_uri": "https://localhost:8080/"
        },
        "id": "dhsiPtERjI9J",
        "outputId": "3ce2b25a-6c56-4d78-da22-ef67f0a56b6a"
      },
      "execution_count": null,
      "outputs": [
        {
          "output_type": "stream",
          "name": "stdout",
          "text": [
            "1\n"
          ]
        }
      ]
    },
    {
      "cell_type": "markdown",
      "source": [
        "How does bacon.append(99) change the look of the list value in bacon?\n",
        "Ans :- bacon.append(99) will add the value 99 to the list at the end of the existing list . After this operation list would be like [3.14,'cat',11,'cat',True,99]"
      ],
      "metadata": {
        "id": "jLJukoLljTPu"
      }
    },
    {
      "cell_type": "code",
      "source": [
        "bacon = [3.14,'cat',11,'cat',True]\n",
        "bacon.append(99)\n",
        "print(bacon)"
      ],
      "metadata": {
        "colab": {
          "base_uri": "https://localhost:8080/"
        },
        "id": "FqgOtfaYjWX-",
        "outputId": "54e4ff60-aa89-4e5c-9d00-9ba5a0c8b673"
      },
      "execution_count": null,
      "outputs": [
        {
          "output_type": "stream",
          "name": "stdout",
          "text": [
            "[3.14, 'cat', 11, 'cat', True, 99]\n"
          ]
        }
      ]
    },
    {
      "cell_type": "markdown",
      "source": [
        "How does bacon.remove('cat') change the look of the list in bacon?"
      ],
      "metadata": {
        "id": "X6X4xXYTjaiT"
      }
    },
    {
      "cell_type": "code",
      "source": [
        "bacon.remove('cat')\n",
        "print(bacon)"
      ],
      "metadata": {
        "colab": {
          "base_uri": "https://localhost:8080/"
        },
        "id": "3-o7sCzVjf0Y",
        "outputId": "270376d7-c372-498b-dcee-729d7cc31167"
      },
      "execution_count": null,
      "outputs": [
        {
          "output_type": "stream",
          "name": "stdout",
          "text": [
            "[3.14, 11, 'cat', True, 99]\n"
          ]
        }
      ]
    },
    {
      "cell_type": "markdown",
      "source": [
        "What are the list concatenation and list replication operators?\n",
        "Ans - list concatanation : - we can use '+' operator list replication :- we can use '*'"
      ],
      "metadata": {
        "id": "3dlLmqMjjlWI"
      }
    },
    {
      "cell_type": "markdown",
      "source": [
        "for **concatenation**"
      ],
      "metadata": {
        "id": "3GoYvG6RjqHw"
      }
    },
    {
      "cell_type": "code",
      "source": [
        "a=[1,2,3] b=[4,5,6] c=a+b\n",
        "\n"
      ],
      "metadata": {
        "colab": {
          "base_uri": "https://localhost:8080/",
          "height": 111
        },
        "id": "CqasVUzrjkFT",
        "outputId": "338e1f10-f73e-4849-8e6e-0561ddc2291b"
      },
      "execution_count": null,
      "outputs": [
        {
          "output_type": "error",
          "ename": "SyntaxError",
          "evalue": "invalid syntax (ipython-input-1563905825.py, line 1)",
          "traceback": [
            "\u001b[0;36m  File \u001b[0;32m\"/tmp/ipython-input-1563905825.py\"\u001b[0;36m, line \u001b[0;32m1\u001b[0m\n\u001b[0;31m    a=[1,2,3] b=[4,5,6] c=a+b\u001b[0m\n\u001b[0m              ^\u001b[0m\n\u001b[0;31mSyntaxError\u001b[0m\u001b[0;31m:\u001b[0m invalid syntax\n"
          ]
        }
      ]
    },
    {
      "cell_type": "markdown",
      "source": [],
      "metadata": {
        "id": "BZ3fPBhHkFZ9"
      }
    },
    {
      "cell_type": "code",
      "source": [
        "c*3\n",
        "\n"
      ],
      "metadata": {
        "colab": {
          "base_uri": "https://localhost:8080/",
          "height": 166
        },
        "id": "QMzLmH15j45z",
        "outputId": "bda64f2e-eef8-4794-cb6c-1700c7141a0b"
      },
      "execution_count": null,
      "outputs": [
        {
          "output_type": "error",
          "ename": "NameError",
          "evalue": "name 'c' is not defined",
          "traceback": [
            "\u001b[0;31m---------------------------------------------------------------------------\u001b[0m",
            "\u001b[0;31mNameError\u001b[0m                                 Traceback (most recent call last)",
            "\u001b[0;32m/tmp/ipython-input-2611136024.py\u001b[0m in \u001b[0;36m<cell line: 0>\u001b[0;34m()\u001b[0m\n\u001b[0;32m----> 1\u001b[0;31m \u001b[0mc\u001b[0m\u001b[0;34m*\u001b[0m\u001b[0;36m3\u001b[0m\u001b[0;34m\u001b[0m\u001b[0;34m\u001b[0m\u001b[0m\n\u001b[0m\u001b[1;32m      2\u001b[0m \u001b[0;34m\u001b[0m\u001b[0m\n",
            "\u001b[0;31mNameError\u001b[0m: name 'c' is not defined"
          ]
        }
      ]
    },
    {
      "cell_type": "markdown",
      "source": [
        "What is difference between the list methods append() and insert()?\n",
        "Ans:- The difference between append() and insert() is with append() method we can only add the value to the list at the end of the list but with insert() method we can at any spectific index means at any position"
      ],
      "metadata": {
        "id": "FxVotF23kGBl"
      }
    },
    {
      "cell_type": "code",
      "source": [
        "a = [1,2,3]\n",
        "a.append(\"skp\")\n",
        "print(a)\n",
        "#suppost i want insert \"skp\" at 2nd position which is at index 1\n",
        "b = [4,5,6]\n",
        "b.insert(1,\"skp\")\n",
        "print(b)"
      ],
      "metadata": {
        "id": "ZPgeMVmnkKPN"
      },
      "execution_count": null,
      "outputs": []
    },
    {
      "cell_type": "markdown",
      "source": [
        "What are the two methods for removing items from a list?\n",
        "Ans:- We can remove the items from a list using remove() , pop() and clear() methods . With remove method we can remove the first occurence of the given value . With pop menthod we can remove the element at particular index and with the clear method we will remove the all the elements of the list"
      ],
      "metadata": {
        "id": "BGuv26WtkP7H"
      }
    },
    {
      "cell_type": "code",
      "source": [
        "a = [1,2,1,1,1,2,4,5]\n",
        "a.remove(2)\n",
        "print(a)"
      ],
      "metadata": {
        "colab": {
          "base_uri": "https://localhost:8080/"
        },
        "id": "PtfkYRZYkTx5",
        "outputId": "14cf0076-ce4d-4746-a27a-5727046171a7"
      },
      "execution_count": null,
      "outputs": [
        {
          "output_type": "stream",
          "name": "stdout",
          "text": [
            "[1, 1, 1, 1, 2, 4, 5]\n"
          ]
        }
      ]
    },
    {
      "cell_type": "code",
      "source": [
        "a = [1,2,1,1,1,2,4,5]\n",
        "a.pop(2)\n",
        "print(a)"
      ],
      "metadata": {
        "colab": {
          "base_uri": "https://localhost:8080/"
        },
        "id": "5GLpGONvkUS5",
        "outputId": "829e319d-c6dd-44f4-81aa-edf0f80c036c"
      },
      "execution_count": null,
      "outputs": [
        {
          "output_type": "stream",
          "name": "stdout",
          "text": [
            "[1, 2, 1, 1, 2, 4, 5]\n"
          ]
        }
      ]
    },
    {
      "cell_type": "code",
      "source": [
        "a = [1,2,1,1,1,2,4,5]\n",
        "a.clear()\n",
        "print(a)"
      ],
      "metadata": {
        "colab": {
          "base_uri": "https://localhost:8080/"
        },
        "id": "JSoLb_iGkWxB",
        "outputId": "d0dfe43e-3ae8-48e7-eba1-78d29264e8cc"
      },
      "execution_count": null,
      "outputs": [
        {
          "output_type": "stream",
          "name": "stdout",
          "text": [
            "[]\n"
          ]
        }
      ]
    },
    {
      "cell_type": "markdown",
      "source": [
        "Describe how list values and string values are identical.\n",
        "Ans:-The list values and string values follows the same indexing method . we can access elements of list same as accessing elements of string"
      ],
      "metadata": {
        "id": "XOlne8Olkdex"
      }
    },
    {
      "cell_type": "code",
      "source": [
        "l=['d','h','o','n','i']\n",
        "for i in l:\n",
        "    print(i,end=\"\")"
      ],
      "metadata": {
        "colab": {
          "base_uri": "https://localhost:8080/"
        },
        "id": "50PIvEhckZSP",
        "outputId": "16708112-d5be-4f25-f0ff-cab173d708f2"
      },
      "execution_count": null,
      "outputs": [
        {
          "output_type": "stream",
          "name": "stdout",
          "text": [
            "dhoni"
          ]
        }
      ]
    },
    {
      "cell_type": "code",
      "source": [
        "s='dhoni'\n",
        "for i in s:\n",
        "    print(i,end=\"\")"
      ],
      "metadata": {
        "colab": {
          "base_uri": "https://localhost:8080/"
        },
        "id": "uxK70NPdkgh3",
        "outputId": "099b0464-1439-4531-d7dc-80d949003bbd"
      },
      "execution_count": null,
      "outputs": [
        {
          "output_type": "stream",
          "name": "stdout",
          "text": [
            "dhoni"
          ]
        }
      ]
    },
    {
      "cell_type": "code",
      "source": [
        "l[3]\n"
      ],
      "metadata": {
        "colab": {
          "base_uri": "https://localhost:8080/",
          "height": 36
        },
        "id": "8QDtjdQWknl8",
        "outputId": "bee30289-007c-4e47-91a9-fa12e4196fb0"
      },
      "execution_count": null,
      "outputs": [
        {
          "output_type": "execute_result",
          "data": {
            "text/plain": [
              "'n'"
            ],
            "application/vnd.google.colaboratory.intrinsic+json": {
              "type": "string"
            }
          },
          "metadata": {},
          "execution_count": 20
        }
      ]
    },
    {
      "cell_type": "code",
      "source": [
        "s[2]\n"
      ],
      "metadata": {
        "id": "R1vjdEtFkqGK"
      },
      "execution_count": null,
      "outputs": []
    },
    {
      "cell_type": "markdown",
      "source": [
        "What's the difference between tuples and lists?\n",
        "Ans : The main difference between tuples and lists is tuples are immutable and lists are mutable means once tuple created means we cannot manipulate the tuple direclty but we can manipulate the list"
      ],
      "metadata": {
        "id": "7PwbddcDkyXl"
      }
    },
    {
      "cell_type": "code",
      "source": [
        "t=(1,2,3,4)\n",
        "print(t[2])"
      ],
      "metadata": {
        "colab": {
          "base_uri": "https://localhost:8080/"
        },
        "id": "p9bucFOlk1aG",
        "outputId": "44a566a0-8d7f-4601-ea61-cfdbe3ab633a"
      },
      "execution_count": null,
      "outputs": [
        {
          "output_type": "stream",
          "name": "stdout",
          "text": [
            "3\n"
          ]
        }
      ]
    },
    {
      "cell_type": "code",
      "source": [
        "t[2] = 5\n"
      ],
      "metadata": {
        "colab": {
          "base_uri": "https://localhost:8080/",
          "height": 148
        },
        "id": "Yw5ZmagFk2CA",
        "outputId": "429df9c6-6895-4bcb-a69e-768f04da75da"
      },
      "execution_count": null,
      "outputs": [
        {
          "output_type": "error",
          "ename": "TypeError",
          "evalue": "'tuple' object does not support item assignment",
          "traceback": [
            "\u001b[0;31m---------------------------------------------------------------------------\u001b[0m",
            "\u001b[0;31mTypeError\u001b[0m                                 Traceback (most recent call last)",
            "\u001b[0;32m/tmp/ipython-input-3893779169.py\u001b[0m in \u001b[0;36m<cell line: 0>\u001b[0;34m()\u001b[0m\n\u001b[0;32m----> 1\u001b[0;31m \u001b[0mt\u001b[0m\u001b[0;34m[\u001b[0m\u001b[0;36m2\u001b[0m\u001b[0;34m]\u001b[0m \u001b[0;34m=\u001b[0m \u001b[0;36m5\u001b[0m\u001b[0;34m\u001b[0m\u001b[0;34m\u001b[0m\u001b[0m\n\u001b[0m",
            "\u001b[0;31mTypeError\u001b[0m: 'tuple' object does not support item assignment"
          ]
        }
      ]
    },
    {
      "cell_type": "code",
      "source": [
        "l=[1,2,3,4]\n",
        "print(l[2])"
      ],
      "metadata": {
        "colab": {
          "base_uri": "https://localhost:8080/"
        },
        "id": "PBq_wstok5pg",
        "outputId": "9b5e83c8-2700-40d8-97eb-5ac3d0d26b0b"
      },
      "execution_count": null,
      "outputs": [
        {
          "output_type": "stream",
          "name": "stdout",
          "text": [
            "3\n"
          ]
        }
      ]
    },
    {
      "cell_type": "code",
      "source": [
        "l[2]=5\n"
      ],
      "metadata": {
        "id": "12cvaQzGk8xm"
      },
      "execution_count": null,
      "outputs": []
    },
    {
      "cell_type": "code",
      "source": [
        "l\n"
      ],
      "metadata": {
        "colab": {
          "base_uri": "https://localhost:8080/"
        },
        "id": "QcTEhg7hk_cN",
        "outputId": "8a65da30-8bb3-43ea-eb29-823d16f19021"
      },
      "execution_count": null,
      "outputs": [
        {
          "output_type": "execute_result",
          "data": {
            "text/plain": [
              "[1, 2, 5, 4]"
            ]
          },
          "metadata": {},
          "execution_count": 25
        }
      ]
    },
    {
      "cell_type": "markdown",
      "source": [
        "How do you type a tuple value that only contains the integer 42?"
      ],
      "metadata": {
        "id": "qt_d3aU5lFer"
      }
    },
    {
      "cell_type": "code",
      "source": [
        "t=(42,)"
      ],
      "metadata": {
        "id": "TnJpgFD9lB2D"
      },
      "execution_count": null,
      "outputs": []
    },
    {
      "cell_type": "code",
      "source": [
        "t[0]\n"
      ],
      "metadata": {
        "colab": {
          "base_uri": "https://localhost:8080/"
        },
        "id": "W_K8xKPGlIgU",
        "outputId": "a5b9f407-52b5-493f-b44e-e4e1926e4ca9"
      },
      "execution_count": null,
      "outputs": [
        {
          "output_type": "execute_result",
          "data": {
            "text/plain": [
              "42"
            ]
          },
          "metadata": {},
          "execution_count": 27
        }
      ]
    },
    {
      "cell_type": "code",
      "source": [
        "type(t)\n"
      ],
      "metadata": {
        "colab": {
          "base_uri": "https://localhost:8080/"
        },
        "id": "DBvJ_AiTlKzA",
        "outputId": "69399328-d05d-4eee-c9f7-aa97eb13ae60"
      },
      "execution_count": null,
      "outputs": [
        {
          "output_type": "execute_result",
          "data": {
            "text/plain": [
              "tuple"
            ]
          },
          "metadata": {},
          "execution_count": 28
        }
      ]
    },
    {
      "cell_type": "markdown",
      "source": [
        "How do you get a list value's tuple form? How do you get a tuple value's list form?"
      ],
      "metadata": {
        "id": "Qw0m-aG_lQFl"
      }
    },
    {
      "cell_type": "code",
      "source": [
        "l=[1,2,3,4]\n",
        "#To convert it into tuple\n",
        "t=tuple(l)\n",
        "print(t)\n",
        "#To convert again from tuple to list\n",
        "l=list(t)\n",
        "print(l)"
      ],
      "metadata": {
        "colab": {
          "base_uri": "https://localhost:8080/"
        },
        "id": "4c0CW3NklNXe",
        "outputId": "646d7823-583e-43b8-c72d-675fb9f66cf0"
      },
      "execution_count": null,
      "outputs": [
        {
          "output_type": "stream",
          "name": "stdout",
          "text": [
            "(1, 2, 3, 4)\n",
            "[1, 2, 3, 4]\n"
          ]
        }
      ]
    },
    {
      "cell_type": "markdown",
      "source": [
        "How do you distinguish between copy.copy() and copy.deepcopy()?"
      ],
      "metadata": {
        "id": "1Q8IJryblXa8"
      }
    },
    {
      "cell_type": "code",
      "source": [
        "import copy\n",
        "l1 = [1,2,[2,3],4]\n",
        "l2=copy.copy(l1)\n",
        "l2[2][0]=5\n",
        "print(l1)\n",
        "print(l2)"
      ],
      "metadata": {
        "colab": {
          "base_uri": "https://localhost:8080/"
        },
        "id": "5QXGQbXNlTB1",
        "outputId": "10072e6c-bf37-43e6-b16b-94807328668a"
      },
      "execution_count": null,
      "outputs": [
        {
          "output_type": "stream",
          "name": "stdout",
          "text": [
            "[1, 2, [5, 3], 4]\n",
            "[1, 2, [5, 3], 4]\n"
          ]
        }
      ]
    },
    {
      "cell_type": "code",
      "source": [
        "import copy\n",
        "l1 = [1,2,[2,3],4]\n",
        "l2=copy.deepcopy(l1)\n",
        "l2[2][0]=5\n",
        "print(l1)\n",
        "print(l2)"
      ],
      "metadata": {
        "colab": {
          "base_uri": "https://localhost:8080/"
        },
        "id": "wAWTIqeolacH",
        "outputId": "6d1a2931-2e61-4cb1-e1c1-42ce4f739881"
      },
      "execution_count": null,
      "outputs": [
        {
          "output_type": "stream",
          "name": "stdout",
          "text": [
            "[1, 2, [2, 3], 4]\n",
            "[1, 2, [5, 3], 4]\n"
          ]
        }
      ]
    },
    {
      "cell_type": "code",
      "source": [],
      "metadata": {
        "id": "eCRiDalVlhRi"
      },
      "execution_count": null,
      "outputs": []
    },
    {
      "cell_type": "markdown",
      "source": [
        "If u observe in copy.copy even if we made some changes in list l2 we are getting those changes in list l1 as well but when u use copy.deepcopy list l2 changes are not affecting l1\n",
        "\n"
      ],
      "metadata": {
        "id": "TswWtU_ZlkdL"
      }
    }
  ]
}