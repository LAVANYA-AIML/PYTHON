{
  "nbformat": 4,
  "nbformat_minor": 0,
  "metadata": {
    "colab": {
      "provenance": []
    },
    "kernelspec": {
      "name": "python3",
      "display_name": "Python 3"
    },
    "language_info": {
      "name": "python"
    }
  },
  "cells": [
    {
      "cell_type": "markdown",
      "source": [
        "What does an empty dictionary's code look like?"
      ],
      "metadata": {
        "id": "_1Ripyxvl_Tw"
      }
    },
    {
      "cell_type": "code",
      "execution_count": null,
      "metadata": {
        "colab": {
          "base_uri": "https://localhost:8080/"
        },
        "id": "qdgpdpTxl90v",
        "outputId": "1da5bb4c-6894-4723-c87c-f893412c9009"
      },
      "outputs": [
        {
          "output_type": "execute_result",
          "data": {
            "text/plain": [
              "dict"
            ]
          },
          "metadata": {},
          "execution_count": 1
        }
      ],
      "source": [
        "dict = {}\n",
        "type(dict)"
      ]
    },
    {
      "cell_type": "markdown",
      "source": [
        "What is the value of a dictionary value with the key 'foo' and the value 42?"
      ],
      "metadata": {
        "id": "SI9hZR8ymG5a"
      }
    },
    {
      "cell_type": "code",
      "source": [
        "dict = {\"foo\":42}"
      ],
      "metadata": {
        "id": "dA-oRacxmDE5"
      },
      "execution_count": null,
      "outputs": []
    },
    {
      "cell_type": "markdown",
      "source": [
        "What is the most significant distinction between a dictionary and a list?"
      ],
      "metadata": {
        "id": "MAkS0BXSmL5Y"
      }
    },
    {
      "cell_type": "code",
      "source": [
        "dict = {'a':1,\"b\":2,\"c\":3}\n",
        "# to access value 2\n",
        "dict['b']"
      ],
      "metadata": {
        "colab": {
          "base_uri": "https://localhost:8080/"
        },
        "id": "iEYZoxngmJm0",
        "outputId": "bcb51245-f726-4660-b811-03a281a6ada9"
      },
      "execution_count": null,
      "outputs": [
        {
          "output_type": "execute_result",
          "data": {
            "text/plain": [
              "2"
            ]
          },
          "metadata": {},
          "execution_count": 3
        }
      ]
    },
    {
      "cell_type": "code",
      "source": [
        "dict['c']"
      ],
      "metadata": {
        "colab": {
          "base_uri": "https://localhost:8080/"
        },
        "id": "KU1ZGVwXmOO1",
        "outputId": "03d0c74a-c508-434d-c112-6184b6c45dfd"
      },
      "execution_count": null,
      "outputs": [
        {
          "output_type": "execute_result",
          "data": {
            "text/plain": [
              "3"
            ]
          },
          "metadata": {},
          "execution_count": 4
        }
      ]
    },
    {
      "cell_type": "code",
      "source": [
        "#List\n",
        "l = [1,2,3]\n",
        "#to access value 2\n",
        "l[1]"
      ],
      "metadata": {
        "colab": {
          "base_uri": "https://localhost:8080/"
        },
        "id": "WNpYJQTamRZs",
        "outputId": "05ca250f-4b38-4c55-b2f6-86bda86d7511"
      },
      "execution_count": null,
      "outputs": [
        {
          "output_type": "execute_result",
          "data": {
            "text/plain": [
              "2"
            ]
          },
          "metadata": {},
          "execution_count": 5
        }
      ]
    },
    {
      "cell_type": "code",
      "source": [
        "#to access value 3\n",
        "l[2]"
      ],
      "metadata": {
        "colab": {
          "base_uri": "https://localhost:8080/"
        },
        "id": "jmo7XAH0mT5v",
        "outputId": "33cb6006-a9cd-4590-c5db-0bd7dffc0921"
      },
      "execution_count": null,
      "outputs": [
        {
          "output_type": "execute_result",
          "data": {
            "text/plain": [
              "3"
            ]
          },
          "metadata": {},
          "execution_count": 6
        }
      ]
    },
    {
      "cell_type": "markdown",
      "source": [
        "If u observe the main difference is accessing values . In dictionary we will access the files through the \"key\" but in list we will access the element through \"indexing\"."
      ],
      "metadata": {
        "id": "Z9ZVcSSSmbzy"
      }
    },
    {
      "cell_type": "markdown",
      "source": [
        "What happens if you try to access spam['foo'] if spam is {'bar': 100}?"
      ],
      "metadata": {
        "id": "dZ8op568meFz"
      }
    },
    {
      "cell_type": "code",
      "source": [
        "spam = {\"bar\":100}\n",
        "spam['foo']"
      ],
      "metadata": {
        "colab": {
          "base_uri": "https://localhost:8080/",
          "height": 166
        },
        "id": "bG6Wj5irmYRB",
        "outputId": "941b8364-980b-430e-fea8-6dd2fc2b4ef5"
      },
      "execution_count": null,
      "outputs": [
        {
          "output_type": "error",
          "ename": "KeyError",
          "evalue": "'foo'",
          "traceback": [
            "\u001b[0;31m---------------------------------------------------------------------------\u001b[0m",
            "\u001b[0;31mKeyError\u001b[0m                                  Traceback (most recent call last)",
            "\u001b[0;32m/tmp/ipython-input-2462655754.py\u001b[0m in \u001b[0;36m<cell line: 0>\u001b[0;34m()\u001b[0m\n\u001b[1;32m      1\u001b[0m \u001b[0mspam\u001b[0m \u001b[0;34m=\u001b[0m \u001b[0;34m{\u001b[0m\u001b[0;34m\"bar\"\u001b[0m\u001b[0;34m:\u001b[0m\u001b[0;36m100\u001b[0m\u001b[0;34m}\u001b[0m\u001b[0;34m\u001b[0m\u001b[0;34m\u001b[0m\u001b[0m\n\u001b[0;32m----> 2\u001b[0;31m \u001b[0mspam\u001b[0m\u001b[0;34m[\u001b[0m\u001b[0;34m'foo'\u001b[0m\u001b[0;34m]\u001b[0m\u001b[0;34m\u001b[0m\u001b[0;34m\u001b[0m\u001b[0m\n\u001b[0m",
            "\u001b[0;31mKeyError\u001b[0m: 'foo'"
          ]
        }
      ]
    },
    {
      "cell_type": "markdown",
      "source": [
        "If u see above when we tried to access element with the 'foo' key it is throwing \"keyError\" since 'foo' key is not there in actual dictionary spam"
      ],
      "metadata": {
        "id": "PUo3tWz6mj5U"
      }
    },
    {
      "cell_type": "markdown",
      "source": [
        "If a dictionary is stored in spam, what is the difference between the expressions 'cat' in spam and 'cat' in spam.keys()?"
      ],
      "metadata": {
        "id": "Sz2euSWMmnd1"
      }
    },
    {
      "cell_type": "code",
      "source": [
        "spam = {\"bar\":100,\"cat\":50}\n",
        "spam"
      ],
      "metadata": {
        "colab": {
          "base_uri": "https://localhost:8080/"
        },
        "id": "t3PTm8qQmhLP",
        "outputId": "daa22bed-5f40-4265-c0cc-08c76382c2dc"
      },
      "execution_count": null,
      "outputs": [
        {
          "output_type": "execute_result",
          "data": {
            "text/plain": [
              "{'bar': 100, 'cat': 50}"
            ]
          },
          "metadata": {},
          "execution_count": 8
        }
      ]
    },
    {
      "cell_type": "code",
      "source": [
        "for i in spam.keys():\n",
        "    print(i)"
      ],
      "metadata": {
        "id": "lSZLvDx5mqws"
      },
      "execution_count": null,
      "outputs": []
    },
    {
      "cell_type": "markdown",
      "source": [
        "There is no difference. The in operator checks whether a value exists as a key in the dictionary."
      ],
      "metadata": {
        "id": "ATCcITOUmwPo"
      }
    },
    {
      "cell_type": "markdown",
      "source": [
        "If a dictionary is stored in spam, what is the difference between the expressions 'cat' in spam and 'cat' in spam.values()?"
      ],
      "metadata": {
        "id": "vZmugcqDmy_0"
      }
    },
    {
      "cell_type": "code",
      "source": [
        "spam = {\"bar\":100,\"cat\":50}\n",
        "spam"
      ],
      "metadata": {
        "colab": {
          "base_uri": "https://localhost:8080/"
        },
        "id": "4tZz7BNMm18d",
        "outputId": "0f153f8c-4c92-486d-bfa5-e42001e7d158"
      },
      "execution_count": null,
      "outputs": [
        {
          "output_type": "execute_result",
          "data": {
            "text/plain": [
              "{'bar': 100, 'cat': 50}"
            ]
          },
          "metadata": {},
          "execution_count": 9
        }
      ]
    },
    {
      "cell_type": "code",
      "source": [
        "for i in spam.values():\n",
        "    print(i)"
      ],
      "metadata": {
        "colab": {
          "base_uri": "https://localhost:8080/"
        },
        "id": "Vy9zfS_jm2Zl",
        "outputId": "8c0cab63-fe50-4cfc-ae3f-8bde3c7a0fce"
      },
      "execution_count": null,
      "outputs": [
        {
          "output_type": "stream",
          "name": "stdout",
          "text": [
            "100\n",
            "50\n"
          ]
        }
      ]
    },
    {
      "cell_type": "markdown",
      "source": [
        "'cat' in spam checks whether there is a 'cat' key in the dictionary, while 'cat' in spam.values() checks whether there is a value 'cat' for one of the keys in spam."
      ],
      "metadata": {
        "id": "eDJEBkdwm7Ak"
      }
    },
    {
      "cell_type": "code",
      "source": [
        "if 'color' not in spam:\n",
        "    spam['color'] = 'black'"
      ],
      "metadata": {
        "id": "WYQfimQBm4qN"
      },
      "execution_count": null,
      "outputs": []
    },
    {
      "cell_type": "code",
      "source": [
        "spam.setdefault('color', 'black')"
      ],
      "metadata": {
        "colab": {
          "base_uri": "https://localhost:8080/",
          "height": 36
        },
        "id": "6IOQ3BSYm-Do",
        "outputId": "acc7db68-f478-43a5-9e82-30ff05543e51"
      },
      "execution_count": null,
      "outputs": [
        {
          "output_type": "execute_result",
          "data": {
            "text/plain": [
              "'black'"
            ],
            "application/vnd.google.colaboratory.intrinsic+json": {
              "type": "string"
            }
          },
          "metadata": {},
          "execution_count": 12
        }
      ]
    },
    {
      "cell_type": "code",
      "source": [
        "spam\n"
      ],
      "metadata": {
        "colab": {
          "base_uri": "https://localhost:8080/"
        },
        "id": "Zgi1YpLGnAS3",
        "outputId": "fb4040da-b66d-4ffd-dcf3-6ead167fd625"
      },
      "execution_count": null,
      "outputs": [
        {
          "output_type": "execute_result",
          "data": {
            "text/plain": [
              "{'bar': 100, 'cat': 50, 'color': 'black'}"
            ]
          },
          "metadata": {},
          "execution_count": 13
        }
      ]
    },
    {
      "cell_type": "code",
      "source": [
        "spam.setdefault('color', 'green')\n"
      ],
      "metadata": {
        "colab": {
          "base_uri": "https://localhost:8080/",
          "height": 36
        },
        "id": "1aUQB0lXnCHT",
        "outputId": "31dc22c0-db85-4476-9cf9-2f6857ff1fb8"
      },
      "execution_count": null,
      "outputs": [
        {
          "output_type": "execute_result",
          "data": {
            "text/plain": [
              "'black'"
            ],
            "application/vnd.google.colaboratory.intrinsic+json": {
              "type": "string"
            }
          },
          "metadata": {},
          "execution_count": 14
        }
      ]
    },
    {
      "cell_type": "code",
      "source": [
        "spam\n"
      ],
      "metadata": {
        "colab": {
          "base_uri": "https://localhost:8080/"
        },
        "id": "4LR1dZEqnEXl",
        "outputId": "b2f2af82-470a-442b-bce0-9be3a457111b"
      },
      "execution_count": null,
      "outputs": [
        {
          "output_type": "execute_result",
          "data": {
            "text/plain": [
              "{'bar': 100, 'cat': 50, 'color': 'black'}"
            ]
          },
          "metadata": {},
          "execution_count": 15
        }
      ]
    },
    {
      "cell_type": "markdown",
      "source": [
        "if u see above since 'color' already there so in second statement eventhough we gave 'color' as green it is is not displayed bcz 'color' is already exist before it"
      ],
      "metadata": {
        "id": "R43PZI2gnJ08"
      }
    },
    {
      "cell_type": "markdown",
      "source": [
        "How do you \"pretty print\" dictionary values using which module and function?\n",
        "Ans : - pprint.pprint() '\\n' here 'pprint' is a module and \"pprint()\" is a function '\\n' The pprint module provides a capability to “pretty-print” arbitrary Python data structures in a well-formatted and more readable way"
      ],
      "metadata": {
        "id": "aj870BL3nM6w"
      }
    },
    {
      "cell_type": "code",
      "source": [],
      "metadata": {
        "id": "aXlFUzo3nGLw"
      },
      "execution_count": null,
      "outputs": []
    }
  ]
}